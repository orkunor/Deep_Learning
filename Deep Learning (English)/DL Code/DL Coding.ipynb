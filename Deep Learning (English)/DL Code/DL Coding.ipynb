{
 "cells": [
  {
   "cell_type": "markdown",
   "id": "4edfc140",
   "metadata": {},
   "source": [
    "# CUSTOMER CHURN ANALYSES \n",
    "\n",
    "-- WITH DEEP LEARNING WE WILL TRY TO ANALYZE WHETHER THERE WILL BE CUSTOMER LOSS OR NOT... \n",
    "\n",
    "-- OUR GOAL IS TO FIGURE OUT IF A CUSTOMER WILL LEAVE US BEFORE WE LOSE A CUSTOMER. \n",
    "\n",
    "-- FOR EXAMPLE, WE WILL TRY TO FIND OUT IF THE CUSTOMER RENEWS HIS CREDIT CARD EVERY YEAR OR HAS A SUBSCRIPTION, ETC. "
   ]
  },
  {
   "cell_type": "code",
   "execution_count": 1,
   "id": "b9ff8abc",
   "metadata": {},
   "outputs": [],
   "source": [
    "# 1. Libraries\n",
    "import pandas as pd\n",
    "import numpy as np\n",
    "import matplotlib.pyplot as plt"
   ]
  },
  {
   "cell_type": "code",
   "execution_count": 2,
   "id": "41b4b238",
   "metadata": {},
   "outputs": [
    {
     "data": {
      "text/html": [
       "<div>\n",
       "<style scoped>\n",
       "    .dataframe tbody tr th:only-of-type {\n",
       "        vertical-align: middle;\n",
       "    }\n",
       "\n",
       "    .dataframe tbody tr th {\n",
       "        vertical-align: top;\n",
       "    }\n",
       "\n",
       "    .dataframe thead th {\n",
       "        text-align: right;\n",
       "    }\n",
       "</style>\n",
       "<table border=\"1\" class=\"dataframe\">\n",
       "  <thead>\n",
       "    <tr style=\"text-align: right;\">\n",
       "      <th></th>\n",
       "      <th>RowNumber</th>\n",
       "      <th>CustomerId</th>\n",
       "      <th>Surname</th>\n",
       "      <th>CreditScore</th>\n",
       "      <th>Geography</th>\n",
       "      <th>Gender</th>\n",
       "      <th>Age</th>\n",
       "      <th>Tenure</th>\n",
       "      <th>Balance</th>\n",
       "      <th>NumOfProducts</th>\n",
       "      <th>HasCrCard</th>\n",
       "      <th>IsActiveMember</th>\n",
       "      <th>EstimatedSalary</th>\n",
       "      <th>Exited</th>\n",
       "    </tr>\n",
       "  </thead>\n",
       "  <tbody>\n",
       "    <tr>\n",
       "      <th>0</th>\n",
       "      <td>1</td>\n",
       "      <td>15634602</td>\n",
       "      <td>Hargrave</td>\n",
       "      <td>619</td>\n",
       "      <td>France</td>\n",
       "      <td>Female</td>\n",
       "      <td>42</td>\n",
       "      <td>2</td>\n",
       "      <td>0.00</td>\n",
       "      <td>1</td>\n",
       "      <td>1</td>\n",
       "      <td>1</td>\n",
       "      <td>101348.88</td>\n",
       "      <td>1</td>\n",
       "    </tr>\n",
       "    <tr>\n",
       "      <th>1</th>\n",
       "      <td>2</td>\n",
       "      <td>15647311</td>\n",
       "      <td>Hill</td>\n",
       "      <td>608</td>\n",
       "      <td>Spain</td>\n",
       "      <td>Female</td>\n",
       "      <td>41</td>\n",
       "      <td>1</td>\n",
       "      <td>83807.86</td>\n",
       "      <td>1</td>\n",
       "      <td>0</td>\n",
       "      <td>1</td>\n",
       "      <td>112542.58</td>\n",
       "      <td>0</td>\n",
       "    </tr>\n",
       "    <tr>\n",
       "      <th>2</th>\n",
       "      <td>3</td>\n",
       "      <td>15619304</td>\n",
       "      <td>Onio</td>\n",
       "      <td>502</td>\n",
       "      <td>France</td>\n",
       "      <td>Female</td>\n",
       "      <td>42</td>\n",
       "      <td>8</td>\n",
       "      <td>159660.80</td>\n",
       "      <td>3</td>\n",
       "      <td>1</td>\n",
       "      <td>0</td>\n",
       "      <td>113931.57</td>\n",
       "      <td>1</td>\n",
       "    </tr>\n",
       "    <tr>\n",
       "      <th>3</th>\n",
       "      <td>4</td>\n",
       "      <td>15701354</td>\n",
       "      <td>Boni</td>\n",
       "      <td>699</td>\n",
       "      <td>France</td>\n",
       "      <td>Female</td>\n",
       "      <td>39</td>\n",
       "      <td>1</td>\n",
       "      <td>0.00</td>\n",
       "      <td>2</td>\n",
       "      <td>0</td>\n",
       "      <td>0</td>\n",
       "      <td>93826.63</td>\n",
       "      <td>0</td>\n",
       "    </tr>\n",
       "    <tr>\n",
       "      <th>4</th>\n",
       "      <td>5</td>\n",
       "      <td>15737888</td>\n",
       "      <td>Mitchell</td>\n",
       "      <td>850</td>\n",
       "      <td>Spain</td>\n",
       "      <td>Female</td>\n",
       "      <td>43</td>\n",
       "      <td>2</td>\n",
       "      <td>125510.82</td>\n",
       "      <td>1</td>\n",
       "      <td>1</td>\n",
       "      <td>1</td>\n",
       "      <td>79084.10</td>\n",
       "      <td>0</td>\n",
       "    </tr>\n",
       "  </tbody>\n",
       "</table>\n",
       "</div>"
      ],
      "text/plain": [
       "   RowNumber  CustomerId   Surname  CreditScore Geography  Gender  Age  \\\n",
       "0          1    15634602  Hargrave          619    France  Female   42   \n",
       "1          2    15647311      Hill          608     Spain  Female   41   \n",
       "2          3    15619304      Onio          502    France  Female   42   \n",
       "3          4    15701354      Boni          699    France  Female   39   \n",
       "4          5    15737888  Mitchell          850     Spain  Female   43   \n",
       "\n",
       "   Tenure    Balance  NumOfProducts  HasCrCard  IsActiveMember  \\\n",
       "0       2       0.00              1          1               1   \n",
       "1       1   83807.86              1          0               1   \n",
       "2       8  159660.80              3          1               0   \n",
       "3       1       0.00              2          0               0   \n",
       "4       2  125510.82              1          1               1   \n",
       "\n",
       "   EstimatedSalary  Exited  \n",
       "0        101348.88       1  \n",
       "1        112542.58       0  \n",
       "2        113931.57       1  \n",
       "3         93826.63       0  \n",
       "4         79084.10       0  "
      ]
     },
     "execution_count": 2,
     "metadata": {},
     "output_type": "execute_result"
    }
   ],
   "source": [
    "veriler = pd.read_csv(\"Churn_Modelling.csv\")\n",
    "veriler.head()"
   ]
  },
  {
   "cell_type": "markdown",
   "id": "4d1f1ddd",
   "metadata": {},
   "source": [
    "# UNDERSTANDING DATA IS IMPORTANT AT THIS POINT \n",
    "\n",
    "-- OUR FIRST COLUMN IS THE INDEX, I.E. THE NUMBER OF NORMAL LINES, A FEATURE OF THE PANDAS LIBRARY ITSELF \n",
    "\n",
    "-- ROWNUMBER : A UNIQUE VALUE IS GIVEN, EACH LINE IS NUMBERED, THAT IS, WE CAN THINK OF IT AS AN INDEX LINE, IT DOES NOT CONTRIBUTE ANYTHING TO US... IT DOESN'T MAKE ANY SENSE FOR US. THESE LINES CAUSE VERY HARMFUL THINGS LIKE MEMORIZATION...!!!!\n",
    "\n",
    "-- CUSTOMERID : THINK LIKE A TC ID NUMBER, AGAIN UNIQUE DOES NOT GIVE US ANY INFORMATION, IT CAUSES MEMORIZATION \n",
    "\n",
    "-- SURNAME : AGAIN THE SAME DOES NOT HAVE ANY EFFECT \n",
    "\n",
    "NOTE : FIRST 3 COLUMNS ARE CLEANED \n",
    "\n",
    "-- OTHER COLUMNS MAY HAVE SOMETHING TO DO WITH PREDICTION \n",
    "\n",
    "-- THE EXITED COLUMN IS WHETHER THE CUSTOMER HAS LEFT US OR NOT, WE ARE TRYING TO PREDICT THIS "
   ]
  },
  {
   "cell_type": "code",
   "execution_count": 3,
   "id": "ced68f9a",
   "metadata": {},
   "outputs": [],
   "source": [
    "X = veriler.iloc[:,3:13].values\n",
    "Y = veriler.iloc[:,13].values"
   ]
  },
  {
   "cell_type": "code",
   "execution_count": 4,
   "id": "d3b520e1",
   "metadata": {},
   "outputs": [
    {
     "data": {
      "text/plain": [
       "array([[619, 'France', 'Female', ..., 1, 1, 101348.88],\n",
       "       [608, 'Spain', 'Female', ..., 0, 1, 112542.58],\n",
       "       [502, 'France', 'Female', ..., 1, 0, 113931.57],\n",
       "       ...,\n",
       "       [709, 'France', 'Female', ..., 0, 1, 42085.58],\n",
       "       [772, 'Germany', 'Male', ..., 1, 0, 92888.52],\n",
       "       [792, 'France', 'Female', ..., 1, 0, 38190.78]], dtype=object)"
      ]
     },
     "execution_count": 4,
     "metadata": {},
     "output_type": "execute_result"
    }
   ],
   "source": [
    "X"
   ]
  },
  {
   "cell_type": "code",
   "execution_count": 5,
   "id": "39cbb0f4",
   "metadata": {},
   "outputs": [
    {
     "data": {
      "text/plain": [
       "array([1, 0, 1, ..., 1, 1, 0], dtype=int64)"
      ]
     },
     "execution_count": 5,
     "metadata": {},
     "output_type": "execute_result"
    }
   ],
   "source": [
    "Y"
   ]
  },
  {
   "cell_type": "code",
   "execution_count": 6,
   "id": "4e1db107",
   "metadata": {},
   "outputs": [],
   "source": [
    "from sklearn import preprocessing "
   ]
  },
  {
   "cell_type": "code",
   "execution_count": 7,
   "id": "85bf2a1c",
   "metadata": {},
   "outputs": [],
   "source": [
    "le=preprocessing.LabelEncoder()\n",
    "X[:,1] = le.fit_transform(X[:,1]) #Geopraphy\n",
    "\n",
    "le2=preprocessing.LabelEncoder()\n",
    "X[:,2] = le2.fit_transform(X[:,2]) #gender "
   ]
  },
  {
   "cell_type": "code",
   "execution_count": 8,
   "id": "3bd6b8d2",
   "metadata": {},
   "outputs": [],
   "source": [
    "from sklearn.preprocessing import OneHotEncoder\n",
    "from sklearn.compose import ColumnTransformer"
   ]
  },
  {
   "cell_type": "code",
   "execution_count": 9,
   "id": "6742e2df",
   "metadata": {},
   "outputs": [],
   "source": [
    "ohe = ColumnTransformer(transformers=[(\"ohe\", OneHotEncoder(dtype=float), [1])],\n",
    "                        remainder=\"passthrough\")\n",
    "X = ohe.fit_transform(X)\n",
    "\n",
    "X = X[:,1:] "
   ]
  },
  {
   "cell_type": "code",
   "execution_count": 10,
   "id": "a5411082",
   "metadata": {},
   "outputs": [
    {
     "data": {
      "text/plain": [
       "array([[0.0, 0.0, 619, ..., 1, 1, 101348.88],\n",
       "       [0.0, 1.0, 608, ..., 0, 1, 112542.58],\n",
       "       [0.0, 0.0, 502, ..., 1, 0, 113931.57],\n",
       "       ...,\n",
       "       [0.0, 0.0, 709, ..., 0, 1, 42085.58],\n",
       "       [1.0, 0.0, 772, ..., 1, 0, 92888.52],\n",
       "       [0.0, 0.0, 792, ..., 1, 0, 38190.78]], dtype=object)"
      ]
     },
     "execution_count": 10,
     "metadata": {},
     "output_type": "execute_result"
    }
   ],
   "source": [
    "X"
   ]
  },
  {
   "cell_type": "code",
   "execution_count": 11,
   "id": "12298cc5",
   "metadata": {},
   "outputs": [],
   "source": [
    "from sklearn.model_selection import train_test_split\n",
    "x_train,x_test,y_train,y_test=train_test_split(X,Y,test_size=0.33,random_state=0)"
   ]
  },
  {
   "cell_type": "code",
   "execution_count": 12,
   "id": "9b18caf3",
   "metadata": {},
   "outputs": [],
   "source": [
    "from sklearn.preprocessing import StandardScaler\n",
    "sc=StandardScaler()"
   ]
  },
  {
   "cell_type": "code",
   "execution_count": 13,
   "id": "deda622b",
   "metadata": {},
   "outputs": [],
   "source": [
    "X_train=sc.fit_transform(x_train)\n",
    "X_test=sc.fit_transform(x_test)"
   ]
  },
  {
   "cell_type": "code",
   "execution_count": 14,
   "id": "d5723660",
   "metadata": {},
   "outputs": [
    {
     "data": {
      "text/plain": [
       "array([[-0.56953701, -0.57436296, -1.78451879, ..., -1.56299709,\n",
       "        -1.03339307,  1.0890591 ],\n",
       "       [-0.56953701, -0.57436296,  1.47401668, ...,  0.63979645,\n",
       "         0.967686  , -0.4551902 ],\n",
       "       [-0.56953701, -0.57436296, -0.82854466, ..., -1.56299709,\n",
       "         0.967686  , -0.65446947],\n",
       "       ...,\n",
       "       [-0.56953701, -0.57436296,  0.89837634, ...,  0.63979645,\n",
       "        -1.03339307,  1.40745917],\n",
       "       [-0.56953701,  1.74105933, -0.62295883, ...,  0.63979645,\n",
       "         0.967686  ,  0.83939459],\n",
       "       [ 1.75581215, -0.57436296, -0.2837422 , ...,  0.63979645,\n",
       "        -1.03339307,  0.31973777]])"
      ]
     },
     "execution_count": 14,
     "metadata": {},
     "output_type": "execute_result"
    }
   ],
   "source": [
    "X_train"
   ]
  },
  {
   "cell_type": "markdown",
   "id": "f9ebb074",
   "metadata": {},
   "source": [
    "# WE'VE PROCESSED THE DATA SO FAR. \n",
    "\n",
    "# DEEP LEARNING"
   ]
  },
  {
   "cell_type": "code",
   "execution_count": 15,
   "id": "8c746e4b",
   "metadata": {},
   "outputs": [],
   "source": [
    "# ARTIFICIAL NEURAL NETWORK \n",
    "\n",
    "import keras "
   ]
  },
  {
   "cell_type": "markdown",
   "id": "7d529cca",
   "metadata": {},
   "source": [
    "-- now after installing the keras 2 things are important \n",
    "\n",
    "-- first model identification \n",
    "\n",
    "-- second is layers \n",
    "\n",
    "-- we will use the Sequential Model... THIS IS A STRUCTURE USED TO DESCRIBE THE ARTIFICIAL NEURAL NETWORK \n",
    "\n",
    "NOTE : WITH THIS MODEL WE TELL KERAS TO CREATE AN ARTIFICIAL NEURAL NETWORK  "
   ]
  },
  {
   "cell_type": "code",
   "execution_count": 16,
   "id": "53edf1ad",
   "metadata": {},
   "outputs": [],
   "source": [
    "from keras.models import Sequential\n",
    "from keras.layers import Dense # it contains the object from which we can create neurons!!!"
   ]
  },
  {
   "cell_type": "code",
   "execution_count": 17,
   "id": "f495c411",
   "metadata": {},
   "outputs": [],
   "source": [
    "#  we will use it as a classification algorithm \n",
    "\n",
    "classifier = Sequential() # here we have created an artificial neural network "
   ]
  },
  {
   "cell_type": "code",
   "execution_count": 18,
   "id": "12608b37",
   "metadata": {},
   "outputs": [],
   "source": [
    "# We will create our artificial neural network by modifying the classifier. \n",
    "# Look by checking the layers while creating the artificial neural network on keras site.  \n",
    "classifier.add(Dense(6,kernel_initializer = \"uniform\",activation = \"relu\",input_dim = 11)) # can be averaged over the input layer and output layer, but this is not exact \n",
    "# 6 hidden layer neurons \n",
    "# You can also find the activation function on the keras site \n",
    "# input_dim number of input data \n",
    "# 6 hidden layers 11 input layers \n",
    "# the classifier will try to find the optimum value by changing what we define here "
   ]
  },
  {
   "cell_type": "code",
   "execution_count": 19,
   "id": "3cc42e37",
   "metadata": {},
   "outputs": [],
   "source": [
    "# let's add a hidden layer \n",
    "classifier.add(Dense(6,kernel_initializer = \"uniform\",activation = \"relu\"))"
   ]
  },
  {
   "cell_type": "code",
   "execution_count": 20,
   "id": "3bf5f34b",
   "metadata": {},
   "outputs": [],
   "source": [
    "# let's look at the output layer \n",
    "classifier.add(Dense(1,kernel_initializer = \"uniform\",activation = \"sigmoid\"))\n",
    "# currently neural network is complete"
   ]
  },
  {
   "cell_type": "code",
   "execution_count": 21,
   "id": "e5b6c832",
   "metadata": {},
   "outputs": [
    {
     "name": "stdout",
     "output_type": "stream",
     "text": [
      "Help on method compile in module keras.src.engine.training:\n",
      "\n",
      "compile(optimizer='rmsprop', loss=None, metrics=None, loss_weights=None, weighted_metrics=None, run_eagerly=None, steps_per_execution=None, jit_compile=None, pss_evaluation_shards=0, **kwargs) method of keras.src.engine.sequential.Sequential instance\n",
      "    Configures the model for training.\n",
      "    \n",
      "    Example:\n",
      "    \n",
      "    ```python\n",
      "    model.compile(optimizer=tf.keras.optimizers.Adam(learning_rate=1e-3),\n",
      "                  loss=tf.keras.losses.BinaryCrossentropy(),\n",
      "                  metrics=[tf.keras.metrics.BinaryAccuracy(),\n",
      "                           tf.keras.metrics.FalseNegatives()])\n",
      "    ```\n",
      "    \n",
      "    Args:\n",
      "        optimizer: String (name of optimizer) or optimizer instance. See\n",
      "          `tf.keras.optimizers`.\n",
      "        loss: Loss function. May be a string (name of loss function), or\n",
      "          a `tf.keras.losses.Loss` instance. See `tf.keras.losses`. A loss\n",
      "          function is any callable with the signature `loss = fn(y_true,\n",
      "          y_pred)`, where `y_true` are the ground truth values, and\n",
      "          `y_pred` are the model's predictions.\n",
      "          `y_true` should have shape\n",
      "          `(batch_size, d0, .. dN)` (except in the case of\n",
      "          sparse loss functions such as\n",
      "          sparse categorical crossentropy which expects integer arrays of\n",
      "          shape `(batch_size, d0, .. dN-1)`).\n",
      "          `y_pred` should have shape `(batch_size, d0, .. dN)`.\n",
      "          The loss function should return a float tensor.\n",
      "          If a custom `Loss` instance is\n",
      "          used and reduction is set to `None`, return value has shape\n",
      "          `(batch_size, d0, .. dN-1)` i.e. per-sample or per-timestep loss\n",
      "          values; otherwise, it is a scalar. If the model has multiple\n",
      "          outputs, you can use a different loss on each output by passing a\n",
      "          dictionary or a list of losses. The loss value that will be\n",
      "          minimized by the model will then be the sum of all individual\n",
      "          losses, unless `loss_weights` is specified.\n",
      "        metrics: List of metrics to be evaluated by the model during\n",
      "          training and testing. Each of this can be a string (name of a\n",
      "          built-in function), function or a `tf.keras.metrics.Metric`\n",
      "          instance. See `tf.keras.metrics`. Typically you will use\n",
      "          `metrics=['accuracy']`.\n",
      "          A function is any callable with the signature `result = fn(y_true,\n",
      "          y_pred)`. To specify different metrics for different outputs of a\n",
      "          multi-output model, you could also pass a dictionary, such as\n",
      "          `metrics={'output_a':'accuracy', 'output_b':['accuracy', 'mse']}`.\n",
      "          You can also pass a list to specify a metric or a list of metrics\n",
      "          for each output, such as\n",
      "          `metrics=[['accuracy'], ['accuracy', 'mse']]`\n",
      "          or `metrics=['accuracy', ['accuracy', 'mse']]`. When you pass the\n",
      "          strings 'accuracy' or 'acc', we convert this to one of\n",
      "          `tf.keras.metrics.BinaryAccuracy`,\n",
      "          `tf.keras.metrics.CategoricalAccuracy`,\n",
      "          `tf.keras.metrics.SparseCategoricalAccuracy` based on the shapes\n",
      "          of the targets and of the model output. We do a similar\n",
      "          conversion for the strings 'crossentropy' and 'ce' as well.\n",
      "          The metrics passed here are evaluated without sample weighting; if\n",
      "          you would like sample weighting to apply, you can specify your\n",
      "          metrics via the `weighted_metrics` argument instead.\n",
      "        loss_weights: Optional list or dictionary specifying scalar\n",
      "          coefficients (Python floats) to weight the loss contributions of\n",
      "          different model outputs. The loss value that will be minimized by\n",
      "          the model will then be the *weighted sum* of all individual\n",
      "          losses, weighted by the `loss_weights` coefficients.  If a list,\n",
      "          it is expected to have a 1:1 mapping to the model's outputs. If a\n",
      "          dict, it is expected to map output names (strings) to scalar\n",
      "          coefficients.\n",
      "        weighted_metrics: List of metrics to be evaluated and weighted by\n",
      "          `sample_weight` or `class_weight` during training and testing.\n",
      "        run_eagerly: Bool. If `True`, this `Model`'s logic will not be\n",
      "          wrapped in a `tf.function`. Recommended to leave this as `None`\n",
      "          unless your `Model` cannot be run inside a `tf.function`.\n",
      "          `run_eagerly=True` is not supported when using\n",
      "          `tf.distribute.experimental.ParameterServerStrategy`. Defaults to\n",
      "           `False`.\n",
      "        steps_per_execution: Int. The number of batches to\n",
      "          run during each `tf.function` call. Running multiple batches\n",
      "          inside a single `tf.function` call can greatly improve performance\n",
      "          on TPUs or small models with a large Python overhead. At most, one\n",
      "          full epoch will be run each execution. If a number larger than the\n",
      "          size of the epoch is passed, the execution will be truncated to\n",
      "          the size of the epoch. Note that if `steps_per_execution` is set\n",
      "          to `N`, `Callback.on_batch_begin` and `Callback.on_batch_end`\n",
      "          methods will only be called every `N` batches (i.e. before/after\n",
      "          each `tf.function` execution). Defaults to `1`.\n",
      "        jit_compile: If `True`, compile the model training step with XLA.\n",
      "          [XLA](https://www.tensorflow.org/xla) is an optimizing compiler\n",
      "          for machine learning.\n",
      "          `jit_compile` is not enabled for by default.\n",
      "          Note that `jit_compile=True`\n",
      "          may not necessarily work for all models.\n",
      "          For more information on supported operations please refer to the\n",
      "          [XLA documentation](https://www.tensorflow.org/xla).\n",
      "          Also refer to\n",
      "          [known XLA issues](https://www.tensorflow.org/xla/known_issues)\n",
      "          for more details.\n",
      "        pss_evaluation_shards: Integer or 'auto'. Used for\n",
      "          `tf.distribute.ParameterServerStrategy` training only. This arg\n",
      "          sets the number of shards to split the dataset into, to enable an\n",
      "          exact visitation guarantee for evaluation, meaning the model will\n",
      "          be applied to each dataset element exactly once, even if workers\n",
      "          fail. The dataset must be sharded to ensure separate workers do\n",
      "          not process the same data. The number of shards should be at least\n",
      "          the number of workers for good performance. A value of 'auto'\n",
      "          turns on exact evaluation and uses a heuristic for the number of\n",
      "          shards based on the number of workers. 0, meaning no\n",
      "          visitation guarantee is provided. NOTE: Custom implementations of\n",
      "          `Model.test_step` will be ignored when doing exact evaluation.\n",
      "          Defaults to `0`.\n",
      "        **kwargs: Arguments supported for backwards compatibility only.\n",
      "\n"
     ]
    }
   ],
   "source": [
    "help(classifier.compile)"
   ]
  },
  {
   "cell_type": "code",
   "execution_count": 22,
   "id": "dada5717",
   "metadata": {},
   "outputs": [],
   "source": [
    "classifier.compile(optimizer = 'adam',loss=\"binary_crossentropy\",metrics=['accuracy'])\n",
    "# We set the synapses here, we did it by looking at keras. \n",
    "# explains how to optimize the values on synapses \n",
    "# the algorithm we use is sgd \n",
    "# we will make loss = binary because ultimately it will be estimated binary \n",
    "# we choose it according to the data to be estimated "
   ]
  },
  {
   "cell_type": "code",
   "execution_count": 23,
   "id": "75105b72",
   "metadata": {},
   "outputs": [
    {
     "name": "stdout",
     "output_type": "stream",
     "text": [
      "Help on method fit in module keras.src.engine.training:\n",
      "\n",
      "fit(x=None, y=None, batch_size=None, epochs=1, verbose='auto', callbacks=None, validation_split=0.0, validation_data=None, shuffle=True, class_weight=None, sample_weight=None, initial_epoch=0, steps_per_epoch=None, validation_steps=None, validation_batch_size=None, validation_freq=1, max_queue_size=10, workers=1, use_multiprocessing=False) method of keras.src.engine.sequential.Sequential instance\n",
      "    Trains the model for a fixed number of epochs (dataset iterations).\n",
      "    \n",
      "    Args:\n",
      "        x: Input data. It could be:\n",
      "          - A Numpy array (or array-like), or a list of arrays\n",
      "            (in case the model has multiple inputs).\n",
      "          - A TensorFlow tensor, or a list of tensors\n",
      "            (in case the model has multiple inputs).\n",
      "          - A dict mapping input names to the corresponding array/tensors,\n",
      "            if the model has named inputs.\n",
      "          - A `tf.data` dataset. Should return a tuple\n",
      "            of either `(inputs, targets)` or\n",
      "            `(inputs, targets, sample_weights)`.\n",
      "          - A generator or `keras.utils.Sequence` returning `(inputs,\n",
      "            targets)` or `(inputs, targets, sample_weights)`.\n",
      "          - A `tf.keras.utils.experimental.DatasetCreator`, which wraps a\n",
      "            callable that takes a single argument of type\n",
      "            `tf.distribute.InputContext`, and returns a `tf.data.Dataset`.\n",
      "            `DatasetCreator` should be used when users prefer to specify the\n",
      "            per-replica batching and sharding logic for the `Dataset`.\n",
      "            See `tf.keras.utils.experimental.DatasetCreator` doc for more\n",
      "            information.\n",
      "          A more detailed description of unpacking behavior for iterator\n",
      "          types (Dataset, generator, Sequence) is given below. If these\n",
      "          include `sample_weights` as a third component, note that sample\n",
      "          weighting applies to the `weighted_metrics` argument but not the\n",
      "          `metrics` argument in `compile()`. If using\n",
      "          `tf.distribute.experimental.ParameterServerStrategy`, only\n",
      "          `DatasetCreator` type is supported for `x`.\n",
      "        y: Target data. Like the input data `x`,\n",
      "          it could be either Numpy array(s) or TensorFlow tensor(s).\n",
      "          It should be consistent with `x` (you cannot have Numpy inputs and\n",
      "          tensor targets, or inversely). If `x` is a dataset, generator,\n",
      "          or `keras.utils.Sequence` instance, `y` should\n",
      "          not be specified (since targets will be obtained from `x`).\n",
      "        batch_size: Integer or `None`.\n",
      "            Number of samples per gradient update.\n",
      "            If unspecified, `batch_size` will default to 32.\n",
      "            Do not specify the `batch_size` if your data is in the\n",
      "            form of datasets, generators, or `keras.utils.Sequence`\n",
      "            instances (since they generate batches).\n",
      "        epochs: Integer. Number of epochs to train the model.\n",
      "            An epoch is an iteration over the entire `x` and `y`\n",
      "            data provided\n",
      "            (unless the `steps_per_epoch` flag is set to\n",
      "            something other than None).\n",
      "            Note that in conjunction with `initial_epoch`,\n",
      "            `epochs` is to be understood as \"final epoch\".\n",
      "            The model is not trained for a number of iterations\n",
      "            given by `epochs`, but merely until the epoch\n",
      "            of index `epochs` is reached.\n",
      "        verbose: 'auto', 0, 1, or 2. Verbosity mode.\n",
      "            0 = silent, 1 = progress bar, 2 = one line per epoch.\n",
      "            'auto' becomes 1 for most cases, but 2 when used with\n",
      "            `ParameterServerStrategy`. Note that the progress bar is not\n",
      "            particularly useful when logged to a file, so verbose=2 is\n",
      "            recommended when not running interactively (eg, in a production\n",
      "            environment). Defaults to 'auto'.\n",
      "        callbacks: List of `keras.callbacks.Callback` instances.\n",
      "            List of callbacks to apply during training.\n",
      "            See `tf.keras.callbacks`. Note\n",
      "            `tf.keras.callbacks.ProgbarLogger` and\n",
      "            `tf.keras.callbacks.History` callbacks are created automatically\n",
      "            and need not be passed into `model.fit`.\n",
      "            `tf.keras.callbacks.ProgbarLogger` is created or not based on\n",
      "            `verbose` argument to `model.fit`.\n",
      "            Callbacks with batch-level calls are currently unsupported with\n",
      "            `tf.distribute.experimental.ParameterServerStrategy`, and users\n",
      "            are advised to implement epoch-level calls instead with an\n",
      "            appropriate `steps_per_epoch` value.\n",
      "        validation_split: Float between 0 and 1.\n",
      "            Fraction of the training data to be used as validation data.\n",
      "            The model will set apart this fraction of the training data,\n",
      "            will not train on it, and will evaluate\n",
      "            the loss and any model metrics\n",
      "            on this data at the end of each epoch.\n",
      "            The validation data is selected from the last samples\n",
      "            in the `x` and `y` data provided, before shuffling. This\n",
      "            argument is not supported when `x` is a dataset, generator or\n",
      "            `keras.utils.Sequence` instance.\n",
      "            If both `validation_data` and `validation_split` are provided,\n",
      "            `validation_data` will override `validation_split`.\n",
      "            `validation_split` is not yet supported with\n",
      "            `tf.distribute.experimental.ParameterServerStrategy`.\n",
      "        validation_data: Data on which to evaluate\n",
      "            the loss and any model metrics at the end of each epoch.\n",
      "            The model will not be trained on this data. Thus, note the fact\n",
      "            that the validation loss of data provided using\n",
      "            `validation_split` or `validation_data` is not affected by\n",
      "            regularization layers like noise and dropout.\n",
      "            `validation_data` will override `validation_split`.\n",
      "            `validation_data` could be:\n",
      "              - A tuple `(x_val, y_val)` of Numpy arrays or tensors.\n",
      "              - A tuple `(x_val, y_val, val_sample_weights)` of NumPy\n",
      "                arrays.\n",
      "              - A `tf.data.Dataset`.\n",
      "              - A Python generator or `keras.utils.Sequence` returning\n",
      "              `(inputs, targets)` or `(inputs, targets, sample_weights)`.\n",
      "            `validation_data` is not yet supported with\n",
      "            `tf.distribute.experimental.ParameterServerStrategy`.\n",
      "        shuffle: Boolean (whether to shuffle the training data\n",
      "            before each epoch) or str (for 'batch'). This argument is\n",
      "            ignored when `x` is a generator or an object of tf.data.Dataset.\n",
      "            'batch' is a special option for dealing\n",
      "            with the limitations of HDF5 data; it shuffles in batch-sized\n",
      "            chunks. Has no effect when `steps_per_epoch` is not `None`.\n",
      "        class_weight: Optional dictionary mapping class indices (integers)\n",
      "            to a weight (float) value, used for weighting the loss function\n",
      "            (during training only).\n",
      "            This can be useful to tell the model to\n",
      "            \"pay more attention\" to samples from\n",
      "            an under-represented class. When `class_weight` is specified\n",
      "            and targets have a rank of 2 or greater, either `y` must be\n",
      "            one-hot encoded, or an explicit final dimension of `1` must\n",
      "            be included for sparse class labels.\n",
      "        sample_weight: Optional Numpy array of weights for\n",
      "            the training samples, used for weighting the loss function\n",
      "            (during training only). You can either pass a flat (1D)\n",
      "            Numpy array with the same length as the input samples\n",
      "            (1:1 mapping between weights and samples),\n",
      "            or in the case of temporal data,\n",
      "            you can pass a 2D array with shape\n",
      "            `(samples, sequence_length)`,\n",
      "            to apply a different weight to every timestep of every sample.\n",
      "            This argument is not supported when `x` is a dataset, generator,\n",
      "            or `keras.utils.Sequence` instance, instead provide the\n",
      "            sample_weights as the third element of `x`.\n",
      "            Note that sample weighting does not apply to metrics specified\n",
      "            via the `metrics` argument in `compile()`. To apply sample\n",
      "            weighting to your metrics, you can specify them via the\n",
      "            `weighted_metrics` in `compile()` instead.\n",
      "        initial_epoch: Integer.\n",
      "            Epoch at which to start training\n",
      "            (useful for resuming a previous training run).\n",
      "        steps_per_epoch: Integer or `None`.\n",
      "            Total number of steps (batches of samples)\n",
      "            before declaring one epoch finished and starting the\n",
      "            next epoch. When training with input tensors such as\n",
      "            TensorFlow data tensors, the default `None` is equal to\n",
      "            the number of samples in your dataset divided by\n",
      "            the batch size, or 1 if that cannot be determined. If x is a\n",
      "            `tf.data` dataset, and 'steps_per_epoch'\n",
      "            is None, the epoch will run until the input dataset is\n",
      "            exhausted.  When passing an infinitely repeating dataset, you\n",
      "            must specify the `steps_per_epoch` argument. If\n",
      "            `steps_per_epoch=-1` the training will run indefinitely with an\n",
      "            infinitely repeating dataset.  This argument is not supported\n",
      "            with array inputs.\n",
      "            When using `tf.distribute.experimental.ParameterServerStrategy`:\n",
      "              * `steps_per_epoch=None` is not supported.\n",
      "        validation_steps: Only relevant if `validation_data` is provided and\n",
      "            is a `tf.data` dataset. Total number of steps (batches of\n",
      "            samples) to draw before stopping when performing validation\n",
      "            at the end of every epoch. If 'validation_steps' is None,\n",
      "            validation will run until the `validation_data` dataset is\n",
      "            exhausted. In the case of an infinitely repeated dataset, it\n",
      "            will run into an infinite loop. If 'validation_steps' is\n",
      "            specified and only part of the dataset will be consumed, the\n",
      "            evaluation will start from the beginning of the dataset at each\n",
      "            epoch. This ensures that the same validation samples are used\n",
      "            every time.\n",
      "        validation_batch_size: Integer or `None`.\n",
      "            Number of samples per validation batch.\n",
      "            If unspecified, will default to `batch_size`.\n",
      "            Do not specify the `validation_batch_size` if your data is in\n",
      "            the form of datasets, generators, or `keras.utils.Sequence`\n",
      "            instances (since they generate batches).\n",
      "        validation_freq: Only relevant if validation data is provided.\n",
      "          Integer or `collections.abc.Container` instance (e.g. list, tuple,\n",
      "          etc.).  If an integer, specifies how many training epochs to run\n",
      "          before a new validation run is performed, e.g. `validation_freq=2`\n",
      "          runs validation every 2 epochs. If a Container, specifies the\n",
      "          epochs on which to run validation, e.g.\n",
      "          `validation_freq=[1, 2, 10]` runs validation at the end of the\n",
      "          1st, 2nd, and 10th epochs.\n",
      "        max_queue_size: Integer. Used for generator or\n",
      "          `keras.utils.Sequence` input only. Maximum size for the generator\n",
      "          queue.  If unspecified, `max_queue_size` will default to 10.\n",
      "        workers: Integer. Used for generator or `keras.utils.Sequence` input\n",
      "            only. Maximum number of processes to spin up\n",
      "            when using process-based threading. If unspecified, `workers`\n",
      "            will default to 1.\n",
      "        use_multiprocessing: Boolean. Used for generator or\n",
      "            `keras.utils.Sequence` input only. If `True`, use process-based\n",
      "            threading. If unspecified, `use_multiprocessing` will default to\n",
      "            `False`. Note that because this implementation relies on\n",
      "            multiprocessing, you should not pass non-picklable arguments to\n",
      "            the generator as they can't be passed easily to children\n",
      "            processes.\n",
      "    \n",
      "    Unpacking behavior for iterator-like inputs:\n",
      "        A common pattern is to pass a tf.data.Dataset, generator, or\n",
      "      tf.keras.utils.Sequence to the `x` argument of fit, which will in fact\n",
      "      yield not only features (x) but optionally targets (y) and sample\n",
      "      weights.  Keras requires that the output of such iterator-likes be\n",
      "      unambiguous. The iterator should return a tuple of length 1, 2, or 3,\n",
      "      where the optional second and third elements will be used for y and\n",
      "      sample_weight respectively. Any other type provided will be wrapped in\n",
      "      a length one tuple, effectively treating everything as 'x'. When\n",
      "      yielding dicts, they should still adhere to the top-level tuple\n",
      "      structure.\n",
      "      e.g. `({\"x0\": x0, \"x1\": x1}, y)`. Keras will not attempt to separate\n",
      "      features, targets, and weights from the keys of a single dict.\n",
      "        A notable unsupported data type is the namedtuple. The reason is\n",
      "      that it behaves like both an ordered datatype (tuple) and a mapping\n",
      "      datatype (dict). So given a namedtuple of the form:\n",
      "          `namedtuple(\"example_tuple\", [\"y\", \"x\"])`\n",
      "      it is ambiguous whether to reverse the order of the elements when\n",
      "      interpreting the value. Even worse is a tuple of the form:\n",
      "          `namedtuple(\"other_tuple\", [\"x\", \"y\", \"z\"])`\n",
      "      where it is unclear if the tuple was intended to be unpacked into x,\n",
      "      y, and sample_weight or passed through as a single element to `x`. As\n",
      "      a result the data processing code will simply raise a ValueError if it\n",
      "      encounters a namedtuple. (Along with instructions to remedy the\n",
      "      issue.)\n",
      "    \n",
      "    Returns:\n",
      "        A `History` object. Its `History.history` attribute is\n",
      "        a record of training loss values and metrics values\n",
      "        at successive epochs, as well as validation loss values\n",
      "        and validation metrics values (if applicable).\n",
      "    \n",
      "    Raises:\n",
      "        RuntimeError: 1. If the model was never compiled or,\n",
      "        2. If `model.fit` is  wrapped in `tf.function`.\n",
      "    \n",
      "        ValueError: In case of mismatch between the provided input data\n",
      "            and what the model expects or when the input data is empty.\n",
      "\n"
     ]
    }
   ],
   "source": [
    "help(classifier.fit)"
   ]
  },
  {
   "cell_type": "code",
   "execution_count": 24,
   "id": "f16ec8c2",
   "metadata": {},
   "outputs": [
    {
     "name": "stdout",
     "output_type": "stream",
     "text": [
      "Epoch 1/50\n",
      "210/210 [==============================] - 5s 6ms/step - loss: 0.5933 - accuracy: 0.7964\n",
      "Epoch 2/50\n",
      "210/210 [==============================] - 1s 4ms/step - loss: 0.4394 - accuracy: 0.7979\n",
      "Epoch 3/50\n",
      "210/210 [==============================] - 1s 4ms/step - loss: 0.4256 - accuracy: 0.7981\n",
      "Epoch 4/50\n",
      "210/210 [==============================] - 2s 8ms/step - loss: 0.4217 - accuracy: 0.8139\n",
      "Epoch 5/50\n",
      "210/210 [==============================] - 2s 7ms/step - loss: 0.4190 - accuracy: 0.8209\n",
      "Epoch 6/50\n",
      "210/210 [==============================] - 1s 7ms/step - loss: 0.4161 - accuracy: 0.8227\n",
      "Epoch 7/50\n",
      "210/210 [==============================] - 2s 8ms/step - loss: 0.4139 - accuracy: 0.8255\n",
      "Epoch 8/50\n",
      "210/210 [==============================] - 1s 6ms/step - loss: 0.4119 - accuracy: 0.8284\n",
      "Epoch 9/50\n",
      "210/210 [==============================] - 1s 4ms/step - loss: 0.4095 - accuracy: 0.8276\n",
      "Epoch 10/50\n",
      "210/210 [==============================] - 1s 4ms/step - loss: 0.4080 - accuracy: 0.8321\n",
      "Epoch 11/50\n",
      "210/210 [==============================] - 1s 6ms/step - loss: 0.4061 - accuracy: 0.8321\n",
      "Epoch 12/50\n",
      "210/210 [==============================] - 2s 8ms/step - loss: 0.4053 - accuracy: 0.8325\n",
      "Epoch 13/50\n",
      "210/210 [==============================] - 2s 8ms/step - loss: 0.4042 - accuracy: 0.8318\n",
      "Epoch 14/50\n",
      "210/210 [==============================] - 2s 8ms/step - loss: 0.4032 - accuracy: 0.8331\n",
      "Epoch 15/50\n",
      "210/210 [==============================] - 1s 5ms/step - loss: 0.4024 - accuracy: 0.8325\n",
      "Epoch 16/50\n",
      "210/210 [==============================] - 1s 6ms/step - loss: 0.4020 - accuracy: 0.8346\n",
      "Epoch 17/50\n",
      "210/210 [==============================] - 2s 11ms/step - loss: 0.4014 - accuracy: 0.8340\n",
      "Epoch 18/50\n",
      "210/210 [==============================] - 2s 10ms/step - loss: 0.4011 - accuracy: 0.8331\n",
      "Epoch 19/50\n",
      "210/210 [==============================] - 2s 10ms/step - loss: 0.4006 - accuracy: 0.8340\n",
      "Epoch 20/50\n",
      "210/210 [==============================] - 2s 9ms/step - loss: 0.4002 - accuracy: 0.8342\n",
      "Epoch 21/50\n",
      "210/210 [==============================] - 2s 10ms/step - loss: 0.3996 - accuracy: 0.8336\n",
      "Epoch 22/50\n",
      "210/210 [==============================] - 2s 9ms/step - loss: 0.3999 - accuracy: 0.8351\n",
      "Epoch 23/50\n",
      "210/210 [==============================] - 2s 7ms/step - loss: 0.3992 - accuracy: 0.8361\n",
      "Epoch 24/50\n",
      "210/210 [==============================] - 2s 9ms/step - loss: 0.3990 - accuracy: 0.8343\n",
      "Epoch 25/50\n",
      "210/210 [==============================] - 2s 8ms/step - loss: 0.3988 - accuracy: 0.8357\n",
      "Epoch 26/50\n",
      "210/210 [==============================] - 2s 8ms/step - loss: 0.3984 - accuracy: 0.8367\n",
      "Epoch 27/50\n",
      "210/210 [==============================] - 1s 7ms/step - loss: 0.3983 - accuracy: 0.8366\n",
      "Epoch 28/50\n",
      "210/210 [==============================] - 1s 6ms/step - loss: 0.3980 - accuracy: 0.8357\n",
      "Epoch 29/50\n",
      "210/210 [==============================] - 1s 6ms/step - loss: 0.3977 - accuracy: 0.8366\n",
      "Epoch 30/50\n",
      "210/210 [==============================] - 1s 6ms/step - loss: 0.3976 - accuracy: 0.8348\n",
      "Epoch 31/50\n",
      "210/210 [==============================] - 1s 6ms/step - loss: 0.3972 - accuracy: 0.8363\n",
      "Epoch 32/50\n",
      "210/210 [==============================] - 1s 6ms/step - loss: 0.3970 - accuracy: 0.8366\n",
      "Epoch 33/50\n",
      "210/210 [==============================] - 1s 6ms/step - loss: 0.3968 - accuracy: 0.8370\n",
      "Epoch 34/50\n",
      "210/210 [==============================] - 1s 7ms/step - loss: 0.3968 - accuracy: 0.8352\n",
      "Epoch 35/50\n",
      "210/210 [==============================] - 2s 7ms/step - loss: 0.3964 - accuracy: 0.8376\n",
      "Epoch 36/50\n",
      "210/210 [==============================] - 1s 7ms/step - loss: 0.3959 - accuracy: 0.8360\n",
      "Epoch 37/50\n",
      "210/210 [==============================] - 1s 6ms/step - loss: 0.3962 - accuracy: 0.8372\n",
      "Epoch 38/50\n",
      "210/210 [==============================] - 1s 6ms/step - loss: 0.3961 - accuracy: 0.8364\n",
      "Epoch 39/50\n",
      "210/210 [==============================] - 1s 6ms/step - loss: 0.3961 - accuracy: 0.8367\n",
      "Epoch 40/50\n",
      "210/210 [==============================] - 1s 6ms/step - loss: 0.3959 - accuracy: 0.8358\n",
      "Epoch 41/50\n",
      "210/210 [==============================] - 1s 6ms/step - loss: 0.3952 - accuracy: 0.8361\n",
      "Epoch 42/50\n",
      "210/210 [==============================] - 1s 7ms/step - loss: 0.3954 - accuracy: 0.8367\n",
      "Epoch 43/50\n",
      "210/210 [==============================] - 1s 7ms/step - loss: 0.3949 - accuracy: 0.8378\n",
      "Epoch 44/50\n",
      "210/210 [==============================] - 1s 6ms/step - loss: 0.3951 - accuracy: 0.8369\n",
      "Epoch 45/50\n",
      "210/210 [==============================] - 1s 6ms/step - loss: 0.3948 - accuracy: 0.8357\n",
      "Epoch 46/50\n",
      "210/210 [==============================] - 1s 6ms/step - loss: 0.3944 - accuracy: 0.8363\n",
      "Epoch 47/50\n",
      "210/210 [==============================] - 1s 6ms/step - loss: 0.3944 - accuracy: 0.8375\n",
      "Epoch 48/50\n",
      "210/210 [==============================] - 1s 6ms/step - loss: 0.3943 - accuracy: 0.8363\n",
      "Epoch 49/50\n",
      "210/210 [==============================] - 1s 6ms/step - loss: 0.3943 - accuracy: 0.8373\n",
      "Epoch 50/50\n",
      "210/210 [==============================] - 2s 7ms/step - loss: 0.3940 - accuracy: 0.8364\n"
     ]
    },
    {
     "data": {
      "text/plain": [
       "<keras.src.callbacks.History at 0x25a45cc6350>"
      ]
     },
     "execution_count": 24,
     "metadata": {},
     "output_type": "execute_result"
    }
   ],
   "source": [
    "classifier.fit(X_train,y_train , epochs = 50)"
   ]
  },
  {
   "cell_type": "code",
   "execution_count": 25,
   "id": "1863facb",
   "metadata": {},
   "outputs": [
    {
     "name": "stdout",
     "output_type": "stream",
     "text": [
      "104/104 [==============================] - 1s 4ms/step\n"
     ]
    }
   ],
   "source": [
    "y_pred = classifier.predict(X_test)"
   ]
  },
  {
   "cell_type": "code",
   "execution_count": 26,
   "id": "0afa48ff",
   "metadata": {},
   "outputs": [
    {
     "data": {
      "text/plain": [
       "array([[0.26284087],\n",
       "       [0.26818398],\n",
       "       [0.14592002],\n",
       "       ...,\n",
       "       [0.20102702],\n",
       "       [0.51384485],\n",
       "       [0.01964978]], dtype=float32)"
      ]
     },
     "execution_count": 26,
     "metadata": {},
     "output_type": "execute_result"
    }
   ],
   "source": [
    "y_pred"
   ]
  },
  {
   "cell_type": "code",
   "execution_count": 27,
   "id": "061536fb",
   "metadata": {},
   "outputs": [],
   "source": [
    "y_pred = (y_pred>0.5)"
   ]
  },
  {
   "cell_type": "code",
   "execution_count": 28,
   "id": "69068a1c",
   "metadata": {},
   "outputs": [
    {
     "name": "stdout",
     "output_type": "stream",
     "text": [
      "[[2546   71]\n",
      " [ 449  234]]\n"
     ]
    }
   ],
   "source": [
    "from sklearn.metrics import confusion_matrix\n",
    "cm = confusion_matrix(y_test,y_pred)\n",
    "\n",
    "print(cm)"
   ]
  }
 ],
 "metadata": {
  "kernelspec": {
   "display_name": "Python 3 (ipykernel)",
   "language": "python",
   "name": "python3"
  },
  "language_info": {
   "codemirror_mode": {
    "name": "ipython",
    "version": 3
   },
   "file_extension": ".py",
   "mimetype": "text/x-python",
   "name": "python",
   "nbconvert_exporter": "python",
   "pygments_lexer": "ipython3",
   "version": "3.11.4"
  }
 },
 "nbformat": 4,
 "nbformat_minor": 5
}
