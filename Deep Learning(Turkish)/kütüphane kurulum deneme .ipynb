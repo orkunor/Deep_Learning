{
 "cells": [
  {
   "cell_type": "code",
   "execution_count": 3,
   "id": "b036fee6",
   "metadata": {},
   "outputs": [
    {
     "name": "stdout",
     "output_type": "stream",
     "text": [
      "Merhaba, TensorFlow!\n"
     ]
    }
   ],
   "source": [
    "# TensorFlow kütüphanesini içe aktar\n",
    "import tensorflow as tf\n",
    "\n",
    "# \"Merhaba, TensorFlow!\" ifadesini içeren bir sabit oluştur\n",
    "hello = tf.constant(\"Merhaba, TensorFlow!\")\n",
    "\n",
    "# Ekrana yazdırmak için otomatik oturum oluşturma ve çalıştırma\n",
    "print(hello.numpy().decode('utf-8'))\n"
   ]
  },
  {
   "cell_type": "code",
   "execution_count": null,
   "id": "925e3140",
   "metadata": {},
   "outputs": [],
   "source": []
  }
 ],
 "metadata": {
  "kernelspec": {
   "display_name": "Python 3 (ipykernel)",
   "language": "python",
   "name": "python3"
  },
  "language_info": {
   "codemirror_mode": {
    "name": "ipython",
    "version": 3
   },
   "file_extension": ".py",
   "mimetype": "text/x-python",
   "name": "python",
   "nbconvert_exporter": "python",
   "pygments_lexer": "ipython3",
   "version": "3.11.4"
  }
 },
 "nbformat": 4,
 "nbformat_minor": 5
}
